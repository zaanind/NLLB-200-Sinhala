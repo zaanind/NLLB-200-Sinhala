{
  "nbformat": 4,
  "nbformat_minor": 0,
  "metadata": {
    "colab": {
      "private_outputs": true,
      "provenance": []
    },
    "kernelspec": {
      "name": "python3",
      "display_name": "Python 3"
    },
    "language_info": {
      "name": "python"
    }
  },
  "cells": [
    {
      "cell_type": "code",
      "execution_count": null,
      "metadata": {
        "id": "BWAU8rjEypUL"
      },
      "outputs": [],
      "source": [
        "!pip install pysrt requests sentencepiece transformers==4.33 sacremoses  sacrebleu"
      ]
    },
    {
      "cell_type": "code",
      "source": [
        "import requests\n",
        "import pysrt\n",
        "from transformers import AutoModelForSeq2SeqLM, AutoTokenizer\n",
        "import torch\n"
      ],
      "metadata": {
        "id": "WeEGPnyvzO20"
      },
      "execution_count": null,
      "outputs": []
    },
    {
      "cell_type": "code",
      "source": [
        "model_name = \"zaanind/nllb-ensi-v1-tuning-subs\" #\"facebook/nllb-200-distilled-600M\"\n",
        "tokenizer = AutoTokenizer.from_pretrained(model_name)\n",
        "model = AutoModelForSeq2SeqLM.from_pretrained(model_name)\n",
        "def dotranslate(text):\n",
        "  inputs = tokenizer(text, return_tensors=\"pt\")\n",
        "  translated_tokens = model.generate(**inputs, forced_bos_token_id=tokenizer.lang_code_to_id[\"sin_Sinh\"])\n",
        "  out = tokenizer.decode(translated_tokens[0], skip_special_tokens=True)\n",
        "  return out\n"
      ],
      "metadata": {
        "id": "LQ3gnm9A0-w8"
      },
      "execution_count": null,
      "outputs": []
    },
    {
      "cell_type": "code",
      "source": [],
      "metadata": {
        "id": "jS1f7lMBzxwD"
      },
      "execution_count": null,
      "outputs": []
    },
    {
      "cell_type": "code",
      "source": [
        "from google.colab import files\n",
        "\n",
        "print(\"<< Upload Subtitle file to translate >>\")\n",
        "uploaded = files.upload()\n",
        "\n",
        "for fn in uploaded.keys():\n",
        "  filenm = fn\n",
        "  print(fn)\n",
        "\n",
        "\n",
        "print(\"<<Translating subtitle in progress>>\")\n",
        "\n",
        "# Read the subtitles from a file using pysrt\n",
        "subtitles = pysrt.open(filenm)\n",
        "\n",
        "# Iterate through each subtitle line and translate\n",
        "for subtitle in subtitles:\n",
        "    input_text = subtitle.text\n",
        "\n",
        "    translated_text = dotranslate(input_text)\n",
        "    print(translated_text)\n",
        "\n",
        "    # Update the subtitle with the translated text\n",
        "    subtitle.text = translated_text\n",
        "\n",
        "# Save the modified subtitles to a new file\n",
        "subtitles.save('translated_subtitle_file.srt')\n",
        "\n",
        "print(\"<<downloading.. if not, click>>\")\n",
        "\n",
        "files.download('translated_subtitle_file.srt')\n"
      ],
      "metadata": {
        "id": "jqj2S5Puzw6e"
      },
      "execution_count": null,
      "outputs": []
    },
    {
      "cell_type": "code",
      "source": [],
      "metadata": {
        "id": "y6DwsCM2KNtZ"
      },
      "execution_count": null,
      "outputs": []
    },
    {
      "cell_type": "code",
      "source": [],
      "metadata": {
        "id": "BDN_IpeqwlM_"
      },
      "execution_count": null,
      "outputs": []
    }
  ]
}
